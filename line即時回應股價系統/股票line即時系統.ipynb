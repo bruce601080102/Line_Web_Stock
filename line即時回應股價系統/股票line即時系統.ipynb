{
 "cells": [
  {
   "cell_type": "code",
   "execution_count": 1,
   "metadata": {},
   "outputs": [],
   "source": [
    "from flask import Flask, request, abort\n",
    "\n",
    "from linebot import (\n",
    "    LineBotApi, WebhookHandler\n",
    ")\n",
    "from linebot.exceptions import (\n",
    "    InvalidSignatureError\n",
    ")\n",
    "from linebot.models import (\n",
    "    MessageEvent, TextMessage, TextSendMessage,\n",
    ")\n",
    "import twstock\n",
    "\n",
    "import re\n",
    "from gtts import gTTS\n",
    "import os\n",
    "from bs4 import BeautifulSoup\n",
    "import requests\n",
    "from hanziconv import HanziConv\n",
    "\n",
    "\n",
    "app = Flask(__name__)\n",
    "\n",
    "line_bot_api = LineBotApi('UBq1eOQ8JnHzYTjQNCva4z48XI/WxYy16T9okVyWJ2R3To1MgP4EVKTabHCE6PmznJlwCFFs3/cRzq2vHCFzrhSfx/0/Wu129SKe1AMrnlhnKgNmkfNYu8uMxM/J190FDtTQwfp3iRA0u+liYpKW6QdB04t89/1O/w1cDnyilFU=')\n",
    "handler = WebhookHandler('410b098a32f3632c01908750c161c231')\n",
    "\n",
    "\n",
    "@app.route(\"/callback\", methods=['POST'])\n",
    "def callback():\n",
    "    # get X-Line-Signature header value\n",
    "    signature = request.headers['X-Line-Signature']\n",
    "\n",
    "    # get request body as text\n",
    "    body = request.get_data(as_text=True)\n",
    "    app.logger.info(\"Request body: \" + body)\n",
    "\n",
    "    # handle webhook body\n",
    "    try:\n",
    "        handler.handle(body, signature)\n",
    "    except InvalidSignatureError:\n",
    "        print(\"Invalid signature. Please check your channel access token/channel secret.\")\n",
    "        abort(400)\n",
    "\n",
    "    return 'OK'\n"
   ]
  },
  {
   "cell_type": "code",
   "execution_count": 2,
   "metadata": {},
   "outputs": [],
   "source": [
    "#-----------------------------------------------------------------\n",
    "def get_price(stockid):   # 取得股票名稱和及時股價\n",
    "    rt = twstock.realtime.get(stockid)   # 取得台積電的及時交易資訊\n",
    "    if rt['success']:                    # 如果讀取成功\n",
    "        a=float(rt['realtime']['best_bid_price'][0])\n",
    "        b=float(rt['realtime']['best_bid_price'][1])\n",
    "        c=float(rt['realtime']['best_bid_price'][2])\n",
    "        d=float(rt['realtime']['best_bid_price'][3])\n",
    "        return (rt['info']['name'],      #←傳回 (股票名稱, 及時價格)\n",
    "               float( rt['realtime']['latest_trade_price']))\n",
    "    else:\n",
    "        return (False, False)\n",
    "\n",
    "def get_best(stockid):     # 檢查是否符合四大買賣點\n",
    "    stock = twstock.Stock(stockid)\n",
    "    bp = twstock.BestFourPoint(stock).best_four_point()\n",
    "    if(bp):\n",
    "        return ('買進' if bp[0] else '賣出', bp[1])  #←傳回買進或賣出的建議\n",
    "    else:\n",
    "        return (False, False)  #←都不符合"
   ]
  },
  {
   "cell_type": "code",
   "execution_count": 3,
   "metadata": {},
   "outputs": [],
   "source": [
    "all_dict=twstock.codes\n",
    "dict_name_code={}\n",
    "for i in list(all_dict.keys()):\n",
    "    name = all_dict[i][2]\n",
    "    dict_name_code[name]=i "
   ]
  },
  {
   "cell_type": "code",
   "execution_count": 4,
   "metadata": {},
   "outputs": [],
   "source": [
    "def bot_get_wiki(keyword):\n",
    "    response = requests.get('https://zh.wikipedia.org/zh-tw/' + keyword)\n",
    "    bs = BeautifulSoup(response.text, 'lxml')\n",
    "    p_list = bs.find_all('p')\n",
    "    for p in p_list:\n",
    "        if keyword in p.text[0:10]:\n",
    "            return p.text\n",
    "\n",
    "# 唸出常規表達式處理後的字串\n",
    "\n",
    "def bot_speak_re(sentence):\n",
    "    s1 = re.sub(r'\\[[^\\]]*\\]', '', sentence)\n",
    "\n",
    "    return s1\n",
    "\n",
    "# 對 Google 搜尋結果進行網路爬蟲\n",
    "\n",
    "\n",
    "def bot_get_google(question):\n",
    "    url = 'https://www.google.com.tw/search?q={' + question + '}+股票'\n",
    "    #print(url)\n",
    "    headers = {'User-Agent': 'Mozilla/5.0 (Windows NT 10.0; Win64; x64)'\n",
    "                             ' AppleWebKit/537.36 (KHTML, like Gecko)'\n",
    "                             ' Chrome/70.0.3538.102 Safari/537.36'}\n",
    "    response = requests.get(url, headers=headers)\n",
    "    if response.status_code == 200:\n",
    "        bs = BeautifulSoup(response.text, 'lxml')\n",
    "        wiki_url = bs.find('h3')\n",
    "        # kwd = wiki_url.text.split('/')[-1]\n",
    "        kwd = wiki_url.text.split('›')[-1].replace(' ','')      # 修正\n",
    "        #keyword_trad = HanziConv.toTraditional(kwd)\n",
    "        return kwd\n",
    "    else:\n",
    "        print('請求失敗')"
   ]
  },
  {
   "cell_type": "code",
   "execution_count": null,
   "metadata": {
    "scrolled": true
   },
   "outputs": [
    {
     "name": "stdout",
     "output_type": "stream",
     "text": [
      " * Serving Flask app \"__main__\" (lazy loading)\n",
      " * Environment: production\n",
      "   WARNING: This is a development server. Do not use it in a production deployment.\n",
      "   Use a production WSGI server instead.\n",
      " * Debug mode: off\n"
     ]
    },
    {
     "name": "stderr",
     "output_type": "stream",
     "text": [
      " * Running on http://127.0.0.1:5000/ (Press CTRL+C to quit)\n"
     ]
    },
    {
     "name": "stdout",
     "output_type": "stream",
     "text": [
      "鴻海\n"
     ]
    },
    {
     "name": "stderr",
     "output_type": "stream",
     "text": [
      "127.0.0.1 - - [24/Jul/2020 17:05:15] \"\u001b[37mPOST /callback HTTP/1.1\u001b[0m\" 200 -\n"
     ]
    },
    {
     "name": "stdout",
     "output_type": "stream",
     "text": [
      "公司名稱:鴻海-----最後交易:80.0-----建議:賣出-----量縮價跌, 三日均價小於六日均價\n",
      "台積電\n"
     ]
    },
    {
     "name": "stderr",
     "output_type": "stream",
     "text": [
      "127.0.0.1 - - [24/Jul/2020 17:05:22] \"\u001b[37mPOST /callback HTTP/1.1\u001b[0m\" 200 -\n"
     ]
    },
    {
     "name": "stdout",
     "output_type": "stream",
     "text": [
      "公司名稱:台積電-----最後交易:386.0-----建議:買進-----三日均價大於六日均價\n",
      "台積電\n"
     ]
    },
    {
     "name": "stderr",
     "output_type": "stream",
     "text": [
      "127.0.0.1 - - [24/Jul/2020 17:05:32] \"\u001b[37mPOST /callback HTTP/1.1\u001b[0m\" 200 -\n"
     ]
    },
    {
     "name": "stdout",
     "output_type": "stream",
     "text": [
      "公司名稱:台積電-----最後交易:386.0-----建議:買進-----三日均價大於六日均價\n",
      "台玻\n"
     ]
    },
    {
     "name": "stderr",
     "output_type": "stream",
     "text": [
      "127.0.0.1 - - [24/Jul/2020 17:06:14] \"\u001b[37mPOST /callback HTTP/1.1\u001b[0m\" 200 -\n"
     ]
    },
    {
     "name": "stdout",
     "output_type": "stream",
     "text": [
      "公司名稱:台玻-----最後交易:10.15-----建議:買進-----三日均價大於六日均價\n",
      "台泥\n"
     ]
    },
    {
     "name": "stderr",
     "output_type": "stream",
     "text": [
      "127.0.0.1 - - [24/Jul/2020 17:06:20] \"\u001b[37mPOST /callback HTTP/1.1\u001b[0m\" 200 -\n"
     ]
    },
    {
     "name": "stdout",
     "output_type": "stream",
     "text": [
      "公司名稱:台泥-----最後交易:45.0-----建議:買進-----三日均價大於六日均價\n",
      "中鋼\n"
     ]
    },
    {
     "name": "stderr",
     "output_type": "stream",
     "text": [
      "127.0.0.1 - - [24/Jul/2020 17:06:36] \"\u001b[37mPOST /callback HTTP/1.1\u001b[0m\" 200 -\n"
     ]
    },
    {
     "name": "stdout",
     "output_type": "stream",
     "text": [
      "公司名稱:中鋼-----最後交易:20.15-----建議:賣出-----量大收黑, 三日均價小於六日均價\n"
     ]
    },
    {
     "name": "stderr",
     "output_type": "stream",
     "text": [
      "[2020-07-24 17:07:51,226] ERROR in app: Exception on /callback [POST]\n",
      "Traceback (most recent call last):\n",
      "  File \"C:\\python\\envs\\keras_2\\lib\\site-packages\\flask\\app.py\", line 2447, in wsgi_app\n",
      "    response = self.full_dispatch_request()\n",
      "  File \"C:\\python\\envs\\keras_2\\lib\\site-packages\\flask\\app.py\", line 1952, in full_dispatch_request\n",
      "    rv = self.handle_user_exception(e)\n",
      "  File \"C:\\python\\envs\\keras_2\\lib\\site-packages\\flask\\app.py\", line 1821, in handle_user_exception\n",
      "    reraise(exc_type, exc_value, tb)\n",
      "  File \"C:\\python\\envs\\keras_2\\lib\\site-packages\\flask\\_compat.py\", line 39, in reraise\n",
      "    raise value\n",
      "  File \"C:\\python\\envs\\keras_2\\lib\\site-packages\\flask\\app.py\", line 1950, in full_dispatch_request\n",
      "    rv = self.dispatch_request()\n",
      "  File \"C:\\python\\envs\\keras_2\\lib\\site-packages\\flask\\app.py\", line 1936, in dispatch_request\n",
      "    return self.view_functions[rule.endpoint](**req.view_args)\n",
      "  File \"<ipython-input-1-1d5fae980309>\", line 39, in callback\n",
      "    handler.handle(body, signature)\n",
      "  File \"E:\\ch06\\line_api\\linebot\\webhook.py\", line 256, in handle\n",
      "    self.__invoke_func(func, event, payload)\n",
      "  File \"E:\\ch06\\line_api\\linebot\\webhook.py\", line 268, in __invoke_func\n",
      "    func(event)\n",
      "  File \"<ipython-input-5-8be3ce0fa9fd>\", line 12, in handle_message\n",
      "    name, price = get_price(dict_name_code[key])\n",
      "KeyError: '麥當勞-美股報價-Yahoo!奇摩股市'\n",
      "127.0.0.1 - - [24/Jul/2020 17:07:51] \"\u001b[1m\u001b[35mPOST /callback HTTP/1.1\u001b[0m\" 500 -\n"
     ]
    },
    {
     "name": "stdout",
     "output_type": "stream",
     "text": [
      "麥當勞-美股報價-Yahoo!奇摩股市\n"
     ]
    }
   ],
   "source": [
    "@handler.add(MessageEvent, message=TextMessage)\n",
    "def handle_message(event):\n",
    "    \n",
    "    search = bot_get_google(event.message.text)\n",
    "    time=0\n",
    "    for i in search:\n",
    "        if i=='(':\n",
    "            break\n",
    "        time+=1\n",
    "    key=search[0:time]\n",
    "    print(key)\n",
    "    name, price = get_price(dict_name_code[key])  \n",
    "    act, why = get_best(dict_name_code[key])     \n",
    "    repeat='公司名稱:'+name+'-----'+'最後交易:'+str(price)+'-----'+'建議:'+act+'-----'+why\n",
    "    line_bot_api.reply_message(\n",
    "        event.reply_token,\n",
    "        TextSendMessage(text=repeat)\n",
    "    )\n",
    "\n",
    "    \n",
    "    print(repeat)\n",
    "\n",
    "if __name__ == \"__main__\":\n",
    "    app.run()"
   ]
  },
  {
   "cell_type": "raw",
   "metadata": {},
   "source": [
    "ngrok http 5000"
   ]
  },
  {
   "cell_type": "code",
   "execution_count": null,
   "metadata": {},
   "outputs": [],
   "source": [
    "記住公司全名，只要打個大概就能即時查詢您所投資的股票內容"
   ]
  }
 ],
 "metadata": {
  "kernelspec": {
   "display_name": "Python 3",
   "language": "python",
   "name": "python3"
  },
  "language_info": {
   "codemirror_mode": {
    "name": "ipython",
    "version": 3
   },
   "file_extension": ".py",
   "mimetype": "text/x-python",
   "name": "python",
   "nbconvert_exporter": "python",
   "pygments_lexer": "ipython3",
   "version": "3.6.10"
  }
 },
 "nbformat": 4,
 "nbformat_minor": 4
}
